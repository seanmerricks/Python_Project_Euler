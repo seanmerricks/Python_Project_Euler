{
 "cells": [
  {
   "cell_type": "markdown",
   "metadata": {},
   "source": [
    "# Project Euler In Python"
   ]
  },
  {
   "cell_type": "markdown",
   "metadata": {},
   "source": [
    "The following problems are all from Project Euler which is a great website for providing challenging math based programming problems.\n",
    "\n",
    "The website can be found here https://projecteuler.net/archives if you would like to take a look.\n",
    "How I have worked through the below is just my way of doing things and there are going to be a lot better ways of running things, I'm just not very good yet.\n",
    "\n",
    "Also I open every solution and close it out with the same pieces of code to enable me to output the answer ans provide a time taken. The time module is imported at the top of each script and a start time is logged. Upon completion I log the time again and take one from the other rounded to two decimal places to give a 'time taken' value."
   ]
  },
  {
   "cell_type": "markdown",
   "metadata": {},
   "source": [
    "## Problem 6"
   ]
  },
  {
   "cell_type": "markdown",
   "metadata": {},
   "source": [
    "The sum of the squares of the first ten natural numbers is,\n",
    "\n",
    "1<sup>2</sup> + 2<sup>2</sup> + ... + 10<sup>2</sup> = 385\n",
    "    \n",
    "The square of the sum of the first ten natural numbers is,\n",
    "\n",
    "(1 + 2 + ... + 10)<sup>2</sup> = 55<sup>2</sup> = 3025\n",
    "    \n",
    "Hence the difference between the sum of the squares of the first ten natural numbers and the square of the sum is 3025 − 385 = 2640.\n",
    "\n",
    "Find the difference between the sum of the squares of the first one hundred natural numbers and the square of the sum."
   ]
  },
  {
   "cell_type": "markdown",
   "metadata": {},
   "source": [
    "## Problem 7"
   ]
  },
  {
   "cell_type": "markdown",
   "metadata": {},
   "source": [
    "By listing the first six prime numbers: 2, 3, 5, 7, 11, and 13, we can see that the 6th prime is 13.\n",
    "\n",
    "What is the 10 001st prime number?"
   ]
  },
  {
   "cell_type": "markdown",
   "metadata": {},
   "source": [
    "## Problem 8"
   ]
  },
  {
   "cell_type": "markdown",
   "metadata": {},
   "source": [
    "The four adjacent digits in the 1000-digit number that have the greatest product are 9 × 9 × 8 × 9 = 5832.\n",
    "\n",
    "    73167176531330624919225119674426574742355349194934\n",
    "    96983520312774506326239578318016984801869478851843\n",
    "    85861560789112949495459501737958331952853208805511\n",
    "    12540698747158523863050715693290963295227443043557\n",
    "    66896648950445244523161731856403098711121722383113\n",
    "    62229893423380308135336276614282806444486645238749\n",
    "    30358907296290491560440772390713810515859307960866\n",
    "    70172427121883998797908792274921901699720888093776\n",
    "    65727333001053367881220235421809751254540594752243\n",
    "    52584907711670556013604839586446706324415722155397\n",
    "    53697817977846174064955149290862569321978468622482\n",
    "    83972241375657056057490261407972968652414535100474\n",
    "    82166370484403199890008895243450658541227588666881\n",
    "    16427171479924442928230863465674813919123162824586\n",
    "    17866458359124566529476545682848912883142607690042\n",
    "    24219022671055626321111109370544217506941658960408\n",
    "    07198403850962455444362981230987879927244284909188\n",
    "    84580156166097919133875499200524063689912560717606\n",
    "    05886116467109405077541002256983155200055935729725\n",
    "    71636269561882670428252483600823257530420752963450\n",
    "\n",
    "Find the thirteen adjacent digits in the 1000-digit number that have the greatest product. What is the value of this product?"
   ]
  },
  {
   "cell_type": "markdown",
   "metadata": {},
   "source": [
    "## Problem 9"
   ]
  },
  {
   "cell_type": "markdown",
   "metadata": {},
   "source": [
    "A Pythagorean triplet is a set of three natural numbers, a < b < c, for which,\n",
    "\n",
    "a<sup>2</sup> + b<sup>2</sup> = c<sup>2</sup>\n",
    "    \n",
    "For example, 3<sup>2</sup> + 4<sup>2</sup> = 9 + 16 = 25 = 5<sup>2</sup>.\n",
    "\n",
    "There exists exactly one Pythagorean triplet for which a + b + c = 1000.\n",
    "\n",
    "Find the product abc."
   ]
  },
  {
   "cell_type": "markdown",
   "metadata": {},
   "source": [
    "## Problem 10"
   ]
  },
  {
   "cell_type": "markdown",
   "metadata": {},
   "source": [
    "The sum of the primes below 10 is 2 + 3 + 5 + 7 = 17.\n",
    "\n",
    "Find the sum of all the primes below two million."
   ]
  }
 ],
 "metadata": {
  "kernelspec": {
   "display_name": "Python 3",
   "language": "python",
   "name": "python3"
  },
  "language_info": {
   "codemirror_mode": {
    "name": "ipython",
    "version": 3
   },
   "file_extension": ".py",
   "mimetype": "text/x-python",
   "name": "python",
   "nbconvert_exporter": "python",
   "pygments_lexer": "ipython3",
   "version": "3.6.2"
  }
 },
 "nbformat": 4,
 "nbformat_minor": 2
}
