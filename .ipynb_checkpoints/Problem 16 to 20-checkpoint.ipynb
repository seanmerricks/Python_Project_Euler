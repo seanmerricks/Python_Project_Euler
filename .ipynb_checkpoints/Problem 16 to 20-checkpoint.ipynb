{
 "cells": [
  {
   "cell_type": "markdown",
   "metadata": {},
   "source": [
    "# Project Euler In Python"
   ]
  },
  {
   "cell_type": "markdown",
   "metadata": {},
   "source": [
    "The following problems are all from Project Euler which is a great website for providing challenging math based programming problems.\n",
    "\n",
    "The website can be found here https://projecteuler.net/archives if you would like to take a look. How I have worked through the below is just my way of doing things and there are going to be a lot better ways of running things, I'm just not very good yet.\n",
    "\n",
    "Also I open every solution and close it out with the same pieces of code to enable me to output the answer ans provide a time taken. The time module is imported at the top of each script and a start time is logged. Upon completion I log the time again and take one from the other rounded to two decimal places to give a 'time taken' value."
   ]
  },
  {
   "cell_type": "markdown",
   "metadata": {},
   "source": [
    "## Problem 16"
   ]
  },
  {
   "cell_type": "markdown",
   "metadata": {},
   "source": [
    "2<sup>15</sup> = 32768 and the sum of its digits is 3 + 2 + 7 + 6 + 8 = 26.\n",
    "\n",
    "What is the sum of the digits of the number 2<sup>1000</sup>?"
   ]
  },
  {
   "cell_type": "code",
   "execution_count": 1,
   "metadata": {},
   "outputs": [
    {
     "name": "stdout",
     "output_type": "stream",
     "text": [
      "Answer: 1366 calculated in 0.0 seconds.\n"
     ]
    }
   ],
   "source": [
    "import time\n",
    "start = time.time()\n",
    "answer = 0\n",
    "\n",
    "x = str(2 ** 1000)\n",
    "x = [int(num) for num in x]\n",
    "\n",
    "for num in x:\n",
    "    answer += num\n",
    "    \n",
    "elapsed = float(\"{0:.2f}\".format((time.time() - start)))\n",
    "print(\"Answer:\",answer, \"calculated in\",elapsed,\"seconds.\")"
   ]
  },
  {
   "cell_type": "markdown",
   "metadata": {},
   "source": [
    "### Notes"
   ]
  },
  {
   "cell_type": "markdown",
   "metadata": {},
   "source": [
    "This problem is relativley simple and as such can be solved with a couple of lines of code (probably less as I become more experienced). I first calculate 2<sup>1000</sup> and assign it too a variable of x. Next I split the value of x down into a list of single digits that a loop can then run through and sum up with against the variable of answer."
   ]
  },
  {
   "cell_type": "markdown",
   "metadata": {},
   "source": [
    "## Problem 17"
   ]
  },
  {
   "cell_type": "markdown",
   "metadata": {
    "collapsed": true
   },
   "source": [
    "If the numbers 1 to 5 are written out in words: one, two, three, four, five, then there are 3 + 3 + 5 + 4 + 4 = 19 letters used in total.\n",
    "\n",
    "If all the numbers from 1 to 1000 (one thousand) inclusive were written out in words, how many letters would be used?\n",
    "\n",
    "\n",
    "NOTE: Do not count spaces or hyphens. For example, 342 (three hundred and forty-two) contains 23 letters and 115 (one hundred and fifteen) contains 20 letters. The use of \"and\" when writing out numbers is in compliance with British usage."
   ]
  },
  {
   "cell_type": "code",
   "execution_count": null,
   "metadata": {
    "collapsed": true
   },
   "outputs": [],
   "source": [
    "import time\n",
    "start = time.time()\n",
    "answer = 0\n",
    "\n",
    "\n",
    "    \n",
    "elapsed = float(\"{0:.2f}\".format((time.time() - start)))\n",
    "print(\"Answer:\",answer, \"calculated in\",elapsed,\"seconds.\")"
   ]
  },
  {
   "cell_type": "markdown",
   "metadata": {},
   "source": [
    "### Notes"
   ]
  },
  {
   "cell_type": "markdown",
   "metadata": {},
   "source": []
  },
  {
   "cell_type": "markdown",
   "metadata": {},
   "source": [
    "## Problem 18"
   ]
  },
  {
   "cell_type": "markdown",
   "metadata": {
    "collapsed": true
   },
   "source": [
    "By starting at the top of the triangle below and moving to adjacent numbers on the row below, the maximum total from top to bottom is 23.\n",
    "\n",
    "         3\n",
    "        7 4\n",
    "       2 4 6\n",
    "      8 5 9 3\n",
    "\n",
    "That is, 3 + 7 + 4 + 9 = 23.\n",
    "\n",
    "Find the maximum total from top to bottom of the triangle below:\n",
    "\n",
    "                            75\n",
    "                           95 64\n",
    "                         17 47 82\n",
    "                        18 35 87 10\n",
    "                      20 04 82 47 65\n",
    "                     19 01 23 75 03 34\n",
    "                    88 02 77 73 07 63 67\n",
    "                   99 65 04 28 06 16 70 92\n",
    "                  41 41 26 56 83 40 80 70 33\n",
    "                 41 48 72 33 47 32 37 16 94 29\n",
    "                53 71 44 65 25 43 91 52 97 51 14\n",
    "               70 11 33 28 77 73 17 78 39 68 17 57\n",
    "              91 71 52 38 17 14 91 43 58 50 27 29 48\n",
    "            63 66 04 68 89 53 67 30 73 16 69 87 40 31\n",
    "           04 62 98 27 23 09 70 98 73 93 38 53 60 04 23\n",
    "\n",
    "NOTE: As there are only 16384 routes, it is possible to solve this problem by trying every route. However, Problem 67, is the same challenge with a triangle containing one-hundred rows; it cannot be solved by brute force, and requires a clever method! ;o)"
   ]
  },
  {
   "cell_type": "code",
   "execution_count": null,
   "metadata": {},
   "outputs": [],
   "source": [
    "import time\n",
    "start = time.time()\n",
    "answer = 0\n",
    "\n",
    "\n",
    "    \n",
    "elapsed = float(\"{0:.2f}\".format((time.time() - start)))\n",
    "print(\"Answer:\",answer, \"calculated in\",elapsed,\"seconds.\")"
   ]
  },
  {
   "cell_type": "markdown",
   "metadata": {},
   "source": [
    "### Notes"
   ]
  },
  {
   "cell_type": "markdown",
   "metadata": {},
   "source": []
  },
  {
   "cell_type": "markdown",
   "metadata": {},
   "source": [
    "## Problem 19"
   ]
  },
  {
   "cell_type": "markdown",
   "metadata": {},
   "source": [
    "You are given the following information, but you may prefer to do some research for yourself.\n",
    "\n",
    "    1 Jan 1900 was a Monday.\n",
    "    \n",
    "    Thirty days has September,\n",
    "    April, June and November.\n",
    "    All the rest have thirty-one,\n",
    "    Saving February alone,\n",
    "    Which has twenty-eight, rain or shine.\n",
    "    And on leap years, twenty-nine.\n",
    "\n",
    "    A leap year occurs on any year evenly divisible by 4, but not on a century unless it is divisible by 400.\n",
    "\n",
    "How many Sundays fell on the first of the month during the twentieth century (1 Jan 1901 to 31 Dec 2000)?"
   ]
  },
  {
   "cell_type": "code",
   "execution_count": null,
   "metadata": {},
   "outputs": [],
   "source": [
    "import time\n",
    "start = time.time()\n",
    "answer = 0\n",
    "\n",
    "\n",
    "    \n",
    "elapsed = float(\"{0:.2f}\".format((time.time() - start)))\n",
    "print(\"Answer:\",answer, \"calculated in\",elapsed,\"seconds.\")"
   ]
  },
  {
   "cell_type": "markdown",
   "metadata": {},
   "source": [
    "### Notes"
   ]
  },
  {
   "cell_type": "markdown",
   "metadata": {},
   "source": []
  },
  {
   "cell_type": "markdown",
   "metadata": {},
   "source": [
    "## Problem 20"
   ]
  },
  {
   "cell_type": "markdown",
   "metadata": {},
   "source": [
    "n! means n × (n − 1) × ... × 3 × 2 × 1\n",
    "\n",
    "For example, 10! = 10 × 9 × ... × 3 × 2 × 1 = 3628800,\n",
    "and the sum of the digits in the number 10! is 3 + 6 + 2 + 8 + 8 + 0 + 0 = 27.\n",
    "\n",
    "Find the sum of the digits in the number 100!"
   ]
  },
  {
   "cell_type": "code",
   "execution_count": 2,
   "metadata": {},
   "outputs": [
    {
     "name": "stdout",
     "output_type": "stream",
     "text": [
      "Answer: 648 calculated in 0.0 seconds.\n"
     ]
    }
   ],
   "source": [
    "import time\n",
    "start = time.time()\n",
    "answer = 0\n",
    "\n",
    "def n_exclamation(number):\n",
    "    \"\"\"\n",
    "    Input: Any number.\n",
    "    Output: A value of the n! function by multiplying the given number by every number between itself and 1.\n",
    "    \"\"\"\n",
    "    x = number\n",
    "    working = 1\n",
    "    while x > 0:\n",
    "        working = working * x\n",
    "        x -= 1\n",
    "    return working\n",
    "\n",
    "x = str(n_exclamation(100))\n",
    "x = [int(num) for num in x]\n",
    "\n",
    "for num in x:\n",
    "    answer += num\n",
    "    \n",
    "elapsed = float(\"{0:.2f}\".format((time.time() - start)))\n",
    "print(\"Answer:\",answer, \"calculated in\",elapsed,\"seconds.\")"
   ]
  },
  {
   "cell_type": "markdown",
   "metadata": {},
   "source": [
    "### Notes"
   ]
  },
  {
   "cell_type": "markdown",
   "metadata": {},
   "source": [
    "For this problem I first up a custom function that returns the answer of n! as defined in the problem definition. The number that is run through the function is multiplied by the working variable and then the number is reduced by 1 until the number being multiplied is 1 then the answer is returned. From this point on I pretty much used the same set up as problem 16 to split the answer into single digits in a list and then sum them all up to return the answer."
   ]
  }
 ],
 "metadata": {
  "kernelspec": {
   "display_name": "Python 3",
   "language": "python",
   "name": "python3"
  },
  "language_info": {
   "codemirror_mode": {
    "name": "ipython",
    "version": 3
   },
   "file_extension": ".py",
   "mimetype": "text/x-python",
   "name": "python",
   "nbconvert_exporter": "python",
   "pygments_lexer": "ipython3",
   "version": "3.6.2"
  }
 },
 "nbformat": 4,
 "nbformat_minor": 2
}
