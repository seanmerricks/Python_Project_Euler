{
 "cells": [
  {
   "cell_type": "markdown",
   "metadata": {},
   "source": [
    "# Project Euler In Python"
   ]
  },
  {
   "cell_type": "markdown",
   "metadata": {},
   "source": [
    "The following problems are all from Project Euler which is a great website for providing challenging math based programming problems.\n",
    "\n",
    "The website can be found here https://projecteuler.net/archives if you would like to take a look.\n",
    "How I have worked through the below is just my way of doing things and there are going to be a lot better ways of running things, I'm just not very good yet.\n",
    "\n",
    "Also I open every solution and close it out with the same pieces of code to enable me to output the answer ans provide a time taken. The time module is imported at the top of each script and a start time is logged. Upon completion I log the time again and take one from the other rounded to two decimal places to give a 'time taken' value."
   ]
  },
  {
   "cell_type": "markdown",
   "metadata": {},
   "source": [
    "## Problem 6"
   ]
  },
  {
   "cell_type": "markdown",
   "metadata": {},
   "source": [
    "The sum of the squares of the first ten natural numbers is,\n",
    "\n",
    "1<sup>2</sup> + 2<sup>2</sup> + ... + 10<sup>2</sup> = 385\n",
    "    \n",
    "The square of the sum of the first ten natural numbers is,\n",
    "\n",
    "(1 + 2 + ... + 10)<sup>2</sup> = 55<sup>2</sup> = 3025\n",
    "    \n",
    "Hence the difference between the sum of the squares of the first ten natural numbers and the square of the sum is 3025 − 385 = 2640.\n",
    "\n",
    "Find the difference between the sum of the squares of the first one hundred natural numbers and the square of the sum."
   ]
  },
  {
   "cell_type": "code",
   "execution_count": 1,
   "metadata": {
    "scrolled": true
   },
   "outputs": [
    {
     "name": "stdout",
     "output_type": "stream",
     "text": [
      "Answer: 25164150 calculated in 0.0 seconds.\n"
     ]
    }
   ],
   "source": [
    "import time\n",
    "start = time.time()\n",
    "answer = 0\n",
    "sumsq = 0\n",
    "sumxsq = 0\n",
    " \n",
    "for x in range(1,101):\n",
    "    sumsq += x ** 2\n",
    "    sumxsq += x\n",
    "\n",
    "sumxsq = sumxsq ** 2\n",
    "answer = sumxsq - sumsq\n",
    "    \n",
    "elapsed = float(\"{0:.2f}\".format((time.time() - start)))\n",
    "print(\"Answer:\",answer, \"calculated in\",elapsed,\"seconds.\")"
   ]
  },
  {
   "cell_type": "markdown",
   "metadata": {},
   "source": [
    "### Notes"
   ]
  },
  {
   "cell_type": "markdown",
   "metadata": {},
   "source": [
    "This question is a nice clean, and simple one. The programme simply runs through the numbers 1 to 100 (the range function in Pyuthon counts up to and not including the second number) and runs both sides of the problem at once. There are two variables that for each number take the previous answer and add the current number squared and just the number. When finished this leaves us with 1 - 100 squared then added together and 1 - 100 added together then squared. Subtracting one from the other leaves the answer."
   ]
  },
  {
   "cell_type": "markdown",
   "metadata": {},
   "source": [
    "## Problem 7"
   ]
  },
  {
   "cell_type": "markdown",
   "metadata": {},
   "source": [
    "By listing the first six prime numbers: 2, 3, 5, 7, 11, and 13, we can see that the 6th prime is 13.\n",
    "\n",
    "What is the 10 001st prime number?"
   ]
  },
  {
   "cell_type": "markdown",
   "metadata": {},
   "source": [
    "import time\n",
    "start = time.time()\n",
    "answer = 0\n",
    "number = 10001\n",
    "working = 0\n",
    "factors = 0\n",
    "x = 0\n",
    "y = 2\n",
    "\n",
    "while working < number:\n",
    "    for x in range(1,y + 1):\n",
    "        if factors < 3:\n",
    "            if y % x == 0:\n",
    "                factors += 1\n",
    "    if factors == 2:\n",
    "        answer = y\n",
    "        working += 1\n",
    "    y += 1\n",
    "    factors = 0       \n",
    "    \n",
    "elapsed = float(\"{0:.2f}\".format((time.time() - start)))\n",
    "print(\"Answer:\",answer, \"calculated in\",elapsed,\"seconds.\")"
   ]
  },
  {
   "cell_type": "markdown",
   "metadata": {},
   "source": [
    "Answer: 104743 calculated in 484.88 seconds."
   ]
  },
  {
   "cell_type": "code",
   "execution_count": 2,
   "metadata": {},
   "outputs": [
    {
     "name": "stdout",
     "output_type": "stream",
     "text": [
      "Answer: 104743 calculated in 0.12 seconds.\n"
     ]
    }
   ],
   "source": [
    "import time\n",
    "import math\n",
    "start = time.time()\n",
    "answer = 0\n",
    "number = 10001\n",
    "working = 0\n",
    "x = 2\n",
    "\n",
    "\n",
    "def prime_check(num):\n",
    "    \"\"\"\n",
    "    Input: Any number.\n",
    "    Output: A true or false response to state if the number is prime.\n",
    "    Notes: The function only checks up to the square root of the test number and skips all even numbers after 2 to save time.\n",
    "    \"\"\"\n",
    "    if num % 2 == 0 and num > 2: \n",
    "        return False\n",
    "    for i in range(3, int(math.sqrt(num)) + 1, 2):\n",
    "        if num % i == 0:\n",
    "            return False\n",
    "    return True\n",
    "\n",
    "while working < number:\n",
    "    if prime_check(x) == True:\n",
    "        working += 1\n",
    "        answer = x\n",
    "    x += 1  \n",
    "    \n",
    "elapsed = float(\"{0:.2f}\".format((time.time() - start)))\n",
    "print(\"Answer:\",answer, \"calculated in\",elapsed,\"seconds.\")"
   ]
  },
  {
   "cell_type": "markdown",
   "metadata": {},
   "source": [
    "### Notes"
   ]
  },
  {
   "cell_type": "markdown",
   "metadata": {},
   "source": [
    "My original version of this took around 8 minutes to run by brute forcing the issue of checking if a number is prime. After spending a fair amount of time thinking about how you check if a number is prime I created a function that checks a given number in a lot more optimal way. We only test numbers between 2 and the square root of the test number (anything passed the square root returns the reverse of previous pairs of multiples) and after 2 we no longer test even numbers as multiples as we know they would be a multiple. After running my new version it can be completed in 0.12 seconds. The programme defines this function and then calls it for every number between 2 and 10,001 as per the question. Every time we find a prime number the working counter is increased by 1 meaning this is a live counter of how many prime numbers that have been found and the answer is set to the current test value. When the working counter reaches the 'number' variable it has reached the 10,001st prime number and the test number of x is returned as the answer."
   ]
  },
  {
   "cell_type": "markdown",
   "metadata": {},
   "source": [
    "## Problem 8"
   ]
  },
  {
   "cell_type": "markdown",
   "metadata": {},
   "source": [
    "The four adjacent digits in the 1000-digit number that have the greatest product are 9 × 9 × 8 × 9 = 5832.\n",
    "\n",
    "    73167176531330624919225119674426574742355349194934\n",
    "    96983520312774506326239578318016984801869478851843\n",
    "    85861560789112949495459501737958331952853208805511\n",
    "    12540698747158523863050715693290963295227443043557\n",
    "    66896648950445244523161731856403098711121722383113\n",
    "    62229893423380308135336276614282806444486645238749\n",
    "    30358907296290491560440772390713810515859307960866\n",
    "    70172427121883998797908792274921901699720888093776\n",
    "    65727333001053367881220235421809751254540594752243\n",
    "    52584907711670556013604839586446706324415722155397\n",
    "    53697817977846174064955149290862569321978468622482\n",
    "    83972241375657056057490261407972968652414535100474\n",
    "    82166370484403199890008895243450658541227588666881\n",
    "    16427171479924442928230863465674813919123162824586\n",
    "    17866458359124566529476545682848912883142607690042\n",
    "    24219022671055626321111109370544217506941658960408\n",
    "    07198403850962455444362981230987879927244284909188\n",
    "    84580156166097919133875499200524063689912560717606\n",
    "    05886116467109405077541002256983155200055935729725\n",
    "    71636269561882670428252483600823257530420752963450\n",
    "\n",
    "Find the thirteen adjacent digits in the 1000-digit number that have the greatest product. What is the value of this product?"
   ]
  },
  {
   "cell_type": "code",
   "execution_count": 3,
   "metadata": {},
   "outputs": [
    {
     "name": "stdout",
     "output_type": "stream",
     "text": [
      "Answer: 23514624000 calculated in 0.01 seconds.\n"
     ]
    }
   ],
   "source": [
    "import time\n",
    "start = time.time()\n",
    "answer = 0\n",
    "working = 1\n",
    "adjust = 13\n",
    "number = \"73167176531330624919225119674426574742355349194934969835203127745063262395783180169848018694788518438586156078911294949545950173795833195285320880551112540698747158523863050715693290963295227443043557668966489504452445231617318564030987111217223831136222989342338030813533627661428280644448664523874930358907296290491560440772390713810158593079608667017242712188399879790879227492190169972088809377665727333001053367881220235421809751254540594752243525849077116705560136048395864467063244157221553975369781797784617406495514929086256932197846862248283972241375657056057490261407972968652414535100474821663704844031998900088952434506585412275886668811642717147992444292823063465674813919123162824586178664583591245665294765456828489128831426076900422421902267105562632111110937054421750694165896040807198403850962455444362981230987879927244284909188845801561660979191338754992005240636899125607176060588611646710940507754100225698315520005593572972571636269561882670428252483600823257530420752963450\"\n",
    "\n",
    "for y in range(1, (len(number) - adjust)):\n",
    "    for x in range(1, adjust + 1):\n",
    "        working = working * int(number[(y + x):(y + x) + 1])\n",
    "    if working > answer:\n",
    "        answer = working\n",
    "    working = 1\n",
    "    \n",
    "elapsed = float(\"{0:.2f}\".format((time.time() - start)))\n",
    "print(\"Answer:\",answer, \"calculated in\",elapsed,\"seconds.\")"
   ]
  },
  {
   "cell_type": "markdown",
   "metadata": {},
   "source": [
    "### Notes"
   ]
  },
  {
   "cell_type": "markdown",
   "metadata": {},
   "source": [
    "For this puzzle I did preemptively put all of the 1,000 digit number into one string. I could have set a loop that did the same thing with adding the ten rows to one long string and working with that but this seemed easier. The programme then runs starts by calculating the length of the string, checking the adjustment number of how many digits I want to test in one go, in this case 13, and setting a loop that runs that many times. Now I have a loop that will run the right number of times I set a loop running within it that takes the current starting number in the top loop and takes the 12 following number and multiplies them all together. The value is assigned to a variable named working and this is tested agains the previous test answer of working, if the new value is larger answer is set to this. When the loop completes through all 1,000 disgits and 987 iterations we are left with the highest product."
   ]
  },
  {
   "cell_type": "markdown",
   "metadata": {},
   "source": [
    "## Problem 9"
   ]
  },
  {
   "cell_type": "markdown",
   "metadata": {},
   "source": [
    "A Pythagorean triplet is a set of three natural numbers, a < b < c, for which,\n",
    "\n",
    "a<sup>2</sup> + b<sup>2</sup> = c<sup>2</sup>\n",
    "    \n",
    "For example, 3<sup>2</sup> + 4<sup>2</sup> = 9 + 16 = 25 = 5<sup>2</sup>.\n",
    "\n",
    "There exists exactly one Pythagorean triplet for which a + b + c = 1000.\n",
    "\n",
    "Find the product abc."
   ]
  },
  {
   "cell_type": "code",
   "execution_count": 1,
   "metadata": {},
   "outputs": [
    {
     "name": "stdout",
     "output_type": "stream",
     "text": [
      "Answer: 31875000 calculated in 0.27 seconds.\n"
     ]
    }
   ],
   "source": [
    "import time\n",
    "start = time.time()\n",
    "answer = 0\n",
    "\n",
    "for x in range(1,500):\n",
    "    for y in range(1,500):\n",
    "        z = ((x ** 2) + (y ** 2)) ** 0.5\n",
    "        if z - int(z) == 0:\n",
    "            a = x + y + z\n",
    "            if a == 1000:\n",
    "                answer = x * y * z\n",
    "    \n",
    "elapsed = float(\"{0:.2f}\".format((time.time() - start)))\n",
    "print(\"Answer:\",int(answer), \"calculated in\",elapsed,\"seconds.\")"
   ]
  },
  {
   "cell_type": "markdown",
   "metadata": {},
   "source": [
    "### Notes"
   ]
  },
  {
   "cell_type": "markdown",
   "metadata": {},
   "source": [
    "This programme has a loop running within a loop that increase values for x and y respectivley in each loop. In each iteration I set z to equal the square root of x squared + y squared and then test if z is a whole number. This is done by taking z and putting it into an integer function to return the it as a whole number and taking it away from the z. If this equals zero the then z is a whole number. At this point I add  x, y and z and see if they equal 1,000. This will only occur once from the problem definition so the first time it does I multiple x, y and z and return the answer."
   ]
  },
  {
   "cell_type": "markdown",
   "metadata": {},
   "source": [
    "## Problem 10"
   ]
  },
  {
   "cell_type": "markdown",
   "metadata": {},
   "source": [
    "The sum of the primes below 10 is 2 + 3 + 5 + 7 = 17.\n",
    "\n",
    "Find the sum of all the primes below two million."
   ]
  },
  {
   "cell_type": "code",
   "execution_count": 5,
   "metadata": {},
   "outputs": [
    {
     "name": "stdout",
     "output_type": "stream",
     "text": [
      "Answer: 142913828922 calculated in 5.44 seconds.\n"
     ]
    }
   ],
   "source": [
    "import time\n",
    "import math\n",
    "start = time.time()\n",
    "answer = 0\n",
    "\n",
    "def prime_check(num):\n",
    "    \"\"\"\n",
    "    Input: Any number.\n",
    "    Output: A true or false response to state if the number is prime.\n",
    "    Notes: The function only checks up to the square root of the test number and skips all even numbers after 2 to save time.\n",
    "    \"\"\"\n",
    "    if num % 2 == 0 and num > 2: \n",
    "        return False\n",
    "    for i in range(3, int(math.sqrt(num)) + 1, 2):\n",
    "        if num % i == 0:\n",
    "            return False\n",
    "    return True\n",
    "\n",
    "for x in range(2,2000000):\n",
    "    if prime_check(x) == True:\n",
    "        answer += x\n",
    "    \n",
    "elapsed = float(\"{0:.2f}\".format((time.time() - start)))\n",
    "print(\"Answer:\",answer, \"calculated in\",elapsed,\"seconds.\")"
   ]
  },
  {
   "cell_type": "markdown",
   "metadata": {},
   "source": [
    "### Notes"
   ]
  },
  {
   "cell_type": "markdown",
   "metadata": {},
   "source": [
    "For this problem I simply use the prime number method I created in an earlier problem and run it for all numbers under 2,000,000. As soon as I hit a prime number I add it to the variable answer. When the loop finishes the answer is returned."
   ]
  }
 ],
 "metadata": {
  "kernelspec": {
   "display_name": "Python 3",
   "language": "python",
   "name": "python3"
  },
  "language_info": {
   "codemirror_mode": {
    "name": "ipython",
    "version": 3
   },
   "file_extension": ".py",
   "mimetype": "text/x-python",
   "name": "python",
   "nbconvert_exporter": "python",
   "pygments_lexer": "ipython3",
   "version": "3.6.2"
  }
 },
 "nbformat": 4,
 "nbformat_minor": 2
}
